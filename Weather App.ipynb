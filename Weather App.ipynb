{
 "cells": [
  {
   "cell_type": "code",
   "execution_count": 2,
   "id": "831e7500",
   "metadata": {},
   "outputs": [],
   "source": [
    "import requests\n",
    "from bs4 import BeautifulSoup"
   ]
  },
  {
   "cell_type": "code",
   "execution_count": 102,
   "id": "35986ea6",
   "metadata": {},
   "outputs": [
    {
     "name": "stdout",
     "output_type": "stream",
     "text": [
      "Please enter the city name\n",
      "London\n",
      "Location: London, UK\n",
      "Temperature: 24° C\n",
      "Time: Friday 16:00\n",
      "Info: Partly cloudy\n",
      "Precipitation: 1%\n",
      "Humidity: 52%\n",
      "Wind Speed: 11 mph\n"
     ]
    }
   ],
   "source": [
    "headers = {\"User-Agent\": \"Mozilla/5.0 (Windows NT 10.0; Win64; x64) AppleWebKit/537.36\\\n",
    "            (KHTML, like Gecko)Chrome/70.0.3538.77 Safari/537.36\"}\n",
    "\n",
    "def weather(city_name):\n",
    "    city.replace(\" \",\"+\")\n",
    "    res = requests.get(f\"https://www.google.com/search?q={city}&rlz=1C5CHFA_enGB826GB826&oq={city}\\\n",
    "        &aqs=chrome.0.69i59j69i57j0i433j0i433i457j0i402j0l3j0i433j0.2154j1j15&sourceid=chrome&ie=UTF-8\", \n",
    "                       headers=headers)\n",
    "    soup = BeautifulSoup(res.content, \"html.parser\")\n",
    "    temp = soup.select('#wob_tm')[0].getText().strip()\n",
    "    location = soup.select('#wob_loc')[0].getText().strip()\n",
    "    time = soup.select('#wob_dts')[0].getText().strip()\n",
    "    info = soup.select('#wob_dcp')[0].getText().strip()\n",
    "    precipitation = soup.select('#wob_pp')[0].getText().strip()\n",
    "    humidity = soup.select('#wob_hm')[0].getText().strip()\n",
    "    wind = soup.select('#wob_ws')[0].getText().strip()\n",
    "    print(\"Location: {}\".format(location))\n",
    "    print(\"Temperature: {}\\N{DEGREE SIGN} C\".format(temp))\n",
    "    print(\"Time: {}\".format(time))\n",
    "    print(\"Info: {}\".format(info))\n",
    "    print(\"Precipitation: {}\".format(precipitation))\n",
    "    print(\"Humidity: {}\".format(humidity))\n",
    "    print(\"Wind Speed: {}\".format(wind))\n",
    "    \n",
    "print(\"Please enter the city name\")\n",
    "city=input()\n",
    "city=city+\" weather\"\n",
    "weather(city)"
   ]
  },
  {
   "cell_type": "code",
   "execution_count": null,
   "id": "b9be8e29",
   "metadata": {},
   "outputs": [],
   "source": []
  }
 ],
 "metadata": {
  "kernelspec": {
   "display_name": "Python 3",
   "language": "python",
   "name": "python3"
  },
  "language_info": {
   "codemirror_mode": {
    "name": "ipython",
    "version": 3
   },
   "file_extension": ".py",
   "mimetype": "text/x-python",
   "name": "python",
   "nbconvert_exporter": "python",
   "pygments_lexer": "ipython3",
   "version": "3.6.13"
  }
 },
 "nbformat": 4,
 "nbformat_minor": 5
}
